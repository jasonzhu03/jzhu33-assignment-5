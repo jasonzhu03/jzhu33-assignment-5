{
 "cells": [
  {
   "cell_type": "code",
   "execution_count": 11,
   "metadata": {},
   "outputs": [],
   "source": [
    "import numpy as np\n",
    "import pandas as pd"
   ]
  },
  {
   "cell_type": "code",
   "execution_count": 12,
   "metadata": {},
   "outputs": [],
   "source": [
    "# Define the KNN class\n",
    "class KNN:\n",
    "    def __init__(self, k=3, distance_metric='euclidean'):\n",
    "        self.k = k\n",
    "        self.distance_metric = distance_metric\n",
    "\n",
    "    def fit(self, X, y):\n",
    "        # TODO: Implement the fit method\n",
    "        self.X_train = X\n",
    "        self.y_train = y\n",
    "\n",
    "    def predict(self, X):\n",
    "        # TODO: Implement the predict method\n",
    "        helper = self.predictHelper\n",
    "        return np.apply_along_axis(helper, 1, X.values)\n",
    "\n",
    "    def compute_distance(self, X1, X2):\n",
    "        # TODO: Implement distance computation based on self.distance_metric\n",
    "        # Hint: Use numpy operations for efficient computation\n",
    "        sub = (X2- X1)\n",
    "        if self.distance_metric == 'manhattan':\n",
    "            return np.sum(np.abs(sub), axis=1)\n",
    "        return np.linalg.norm(sub, axis=1)\n",
    "\n",
    "    def predictHelper(self, x):\n",
    "        kInd = np.argpartition(self.compute_distance(x, self.X_train.values), self.k)[:self.k]\n",
    "        return np.mean(self.y_train.iloc[kInd])"
   ]
  },
  {
   "cell_type": "code",
   "execution_count": 13,
   "metadata": {},
   "outputs": [],
   "source": [
    "# Define data preprocessing function\n",
    "def preprocess_data(train_path, test_path):\n",
    "    # Load the datasets\n",
    "    train_data = pd.read_csv(train_path)\n",
    "    test_data = pd.read_csv(test_path)\n",
    "\n",
    "    # TODO: Implement data preprocessing\n",
    "    # Handle categorical variables, scale features, etc.\n",
    "    trainTest = pd.get_dummies(pd.concat([train_data, test_data], axis=0, ignore_index=True), columns=['Geography', 'Gender'], drop_first=True)\n",
    "    colf = ['IsActiveMember', 'Balance', 'CreditScore', 'HasCrCard', 'Tenure', 'Age', 'EstimatedSalary', 'NumOfProducts']\n",
    "    extender = [col for col in trainTest.columns if col.startswith('Geography_') or col.startswith('Gender_')]\n",
    "    colf.extend(extender)\n",
    "    trainTest[colf] = (trainTest[colf] - trainTest[colf].mean()) / trainTest[colf].std()\n",
    "    lenVar = len(train_data)\n",
    "    return trainTest.loc[:lenVar-1, colf], train_data['Exited'], trainTest.loc[lenVar:, colf]"
   ]
  },
  {
   "cell_type": "code",
   "execution_count": 14,
   "metadata": {},
   "outputs": [],
   "source": [
    "# Define cross-validation function\n",
    "def cross_validate(X, y, knn, n_splits=5):\n",
    "    # TODO: Implement cross-validation\n",
    "    # Compute ROC AUC scores\n",
    "    indices = np.random.permutation(len(X))\n",
    "    fold_size = len(X) // n_splits\n",
    "    scores = []\n",
    "    for i in range(n_splits):\n",
    "        tIndice = np.setdiff1d(indices, indices[i * fold_size:(i + 1) * fold_size])\n",
    "        X_train, X_val = X.iloc[tIndice], X.iloc[indices[i * fold_size:(i + 1) * fold_size]]\n",
    "        y_train, y_val = y.iloc[tIndice], y.iloc[indices[i * fold_size:(i + 1) * fold_size]]\n",
    "        knn.fit(X_train, y_train)\n",
    "        y_est_prob = knn.predict(X_val)\n",
    "        if len(np.where(y_val == 0)[0]) == 0 or len(np.where(y_val == 1)[0]) == 0:\n",
    "            score = 0.5\n",
    "        else:\n",
    "            score = np.sum(y_est_prob[np.where(y_val == 1)[0]][:, None] > y_est_prob[np.where(y_val == 0)[0]]) / (len(np.where(y_val == 1)[0]) * len(np.where(y_val == 0)[0]))\n",
    "        scores.append(score)\n",
    "    return scores"
   ]
  },
  {
   "cell_type": "code",
   "execution_count": 15,
   "metadata": {},
   "outputs": [
    {
     "name": "stdout",
     "output_type": "stream",
     "text": [
      "Cross-validation scores: [np.float64(0.8215987163339602), np.float64(0.8220658774863581), np.float64(0.8282043116592361), np.float64(0.8375417175417176), np.float64(0.8406714949250985)]\n",
      "Mean score   0.8300164235892741\n",
      "Best score: 0.8893814596273846\n",
      "Best parameters: {'k': 15, 'distance_metric': 'manhattan'}\n"
     ]
    }
   ],
   "source": [
    "# Load and preprocess data\n",
    "X, y, X_test = preprocess_data('train.csv', 'test.csv')\n",
    "# Create and evaluate model\n",
    "knn = KNN(k=5, distance_metric='euclidean')\n",
    "# Perform cross-validation\n",
    "cv_scores = cross_validate(X, y, knn)\n",
    "\n",
    "print(\"Cross-validation scores:\", cv_scores)\n",
    "\n",
    "# # TODO: hyperparamters tuning\n",
    "print(\"Mean score  \", np.mean(cv_scores))\n",
    "k_values = list(range(3, 18, 2))\n",
    "arr = ['manhattan', 'euclidean']\n",
    "best = 0\n",
    "best2 = {}\n",
    "for k in k_values:\n",
    "    for x in arr:\n",
    "        knn = KNN(k=k, distance_metric=x)\n",
    "        scores = cross_validate(X, y, knn)\n",
    "        mean_score = np.mean(scores)\n",
    "        if mean_score > best:\n",
    "            best = mean_score\n",
    "            best2 = {'k': k, 'distance_metric': x}\n",
    "print(\"Best score:\", best)\n",
    "print(\"Best parameters:\", best2)\n",
    "knn = KNN(**best2)\n",
    "knn.fit(X, y)\n",
    "test_predictions = knn.predict(X_test)\n",
    "rounded_predictions = np.round(test_predictions, 2)\n",
    "pd.DataFrame({'id': pd.read_csv('test.csv')['id'], 'Exited': rounded_predictions.ravel()}).to_csv('submissions.csv', index=False)"
   ]
  }
 ],
 "metadata": {
  "kernelspec": {
   "display_name": "Python 3",
   "language": "python",
   "name": "python3"
  },
  "language_info": {
   "codemirror_mode": {
    "name": "ipython",
    "version": 3
   },
   "file_extension": ".py",
   "mimetype": "text/x-python",
   "name": "python",
   "nbconvert_exporter": "python",
   "pygments_lexer": "ipython3",
   "version": "3.10.11"
  }
 },
 "nbformat": 4,
 "nbformat_minor": 2
}
